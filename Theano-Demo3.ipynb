{
 "cells": [
  {
   "cell_type": "code",
   "execution_count": 7,
   "metadata": {},
   "outputs": [
    {
     "name": "stdout",
     "output_type": "stream",
     "text": [
      "0.0\n",
      "10.0\n",
      "20.0\n",
      "21.0\n",
      "31.0\n",
      "10.0\n",
      "8.0\n",
      "10.0\n"
     ]
    }
   ],
   "source": [
    "import numpy as np\n",
    "import theano\n",
    "import theano.tensor as T\n",
    "\n",
    "state = theano.shared(np.array(0,dtype=np.float64),'state')\n",
    "inc = T.scalar('inc',dtype=state.dtype)\n",
    "accumuolator = theano.function([inc],state,updates=[(state,state+inc)])\n",
    "print accumuolator(10)\n",
    "print accumuolator(10)\n",
    "# to get variable\n",
    "print state.get_value()\n",
    "accumuolator(1)\n",
    "print state.get_value()\n",
    "accumuolator(10)\n",
    "print state.get_value()\n",
    "\n",
    "#to set variable value\n",
    "state.set_value(-1)\n",
    "accumuolator(11)\n",
    "print state.get_value()\n",
    "\n",
    "#temporarily replace shared variable with another value in another function\n",
    "tmp_func = state*2 + inc\n",
    "a = T.scalar(dtype=state.dtype)\n",
    "skip_shared = theano.function([inc,a],tmp_func,givens=[(state,a)]) #a临时代替 state\n",
    "print skip_shared(2,3) #临时调用变量\n",
    "print state.get_value()"
   ]
  }
 ],
 "metadata": {
  "kernelspec": {
   "display_name": "Python 2",
   "language": "python",
   "name": "python2"
  },
  "language_info": {
   "codemirror_mode": {
    "name": "ipython",
    "version": 2
   },
   "file_extension": ".py",
   "mimetype": "text/x-python",
   "name": "python",
   "nbconvert_exporter": "python",
   "pygments_lexer": "ipython2",
   "version": "2.7.11"
  }
 },
 "nbformat": 4,
 "nbformat_minor": 2
}
