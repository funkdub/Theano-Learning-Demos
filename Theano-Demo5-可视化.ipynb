{
 "cells": [
  {
   "cell_type": "code",
   "execution_count": null,
   "metadata": {},
   "outputs": [
    {
     "data": {
      "image/png": "[encoded data removed]",
      "text/plain": [
       "<matplotlib.figure.Figure at 0x10a60de50>"
      ]
     },
     "metadata": {},
     "output_type": "display_data"
    }
   ],
   "source": [
    "import theano\n",
    "import numpy as np\n",
    "import theano.tensor as T\n",
    "import matplotlib.pyplot as plt\n",
    "\n",
    "class Layer(object):\n",
    "    def __init__(self,inputs,in_size,out_size,activation_function=None):\n",
    "        self.W = theano.shared(np.random.normal(0,1,(in_size,out_size)))\n",
    "        self.b = theano.shared(np.zeros((out_size,)) + 0.1)\n",
    "        self.Wx_plus_b = T.dot(inputs,self.W) + self.b\n",
    "        self.activation_function = activation_function\n",
    "        if activation_function is None:\n",
    "            self.outputs = self.Wx_plus_b\n",
    "        else:\n",
    "            self.outputs = self.activation_function(self.Wx_plus_b)\n",
    "\"\"\"\n",
    "l1 = Layer(inputs,in_size=1,out_size=10,activation_funcction)\n",
    "l2 = Layer(l1.output,10,2,None)\n",
    "\"\"\"\n",
    "\n",
    "#制作 假数据\n",
    "x_data = np.linspace(-1,1,300)[:,np.newaxis]\n",
    "noise = np.random.normal(0,0.05,x_data.shape)\n",
    "y_data = np.square(x_data) - 0.5 + noise\n",
    "#显示 假数据\n",
    "# plt.scatter(x_data,y_data)\n",
    "# plt.show()\n",
    "\n",
    " \n",
    "#定义输入 类型\n",
    "x = T.dmatrix('x')\n",
    "y = T.dmatrix('y')\n",
    "\n",
    "#添加层\n",
    "l1 = Layer(x,1,10,T.nnet.relu)\n",
    "l2 = Layer(l1.outputs,10,1,None)\n",
    "#损失\n",
    "cost = T.mean(T.square(l2.outputs - y))\n",
    "#计算梯度\n",
    "gW1,gb1,gW2,gb2 = T.grad(cost,[l1.W,l1.b,l2.W,l2.b])\n",
    "#开始下降\n",
    "learning_rate = 0.05\n",
    "train = theano.function(\n",
    "        inputs=[x,y],\n",
    "        outputs = cost,\n",
    "        updates = [(l1.W,l1.W-learning_rate*gW1),\n",
    "                  (l1.b,l1.b-learning_rate*gb1),\n",
    "                  (l2.W,l2.W-learning_rate*gW2),\n",
    "                  (l2.b,l2.b-learning_rate*gb2)]\n",
    "            )\n",
    "#prediction\n",
    "predict = theano.function(inputs = [x],outputs = l2.outputs)\n",
    "\n",
    "#plot 假数据\n",
    "fig = plt.figure()\n",
    "ax = fig.add_subplot(1,1,1)\n",
    "ax.scatter(x_data,y_data)\n",
    "plt.ion()                                  #red line\n",
    "plt.show()\n",
    "\n",
    "for i in range(1000):\n",
    "    #training\n",
    "    err = train(x_data,y_data)\n",
    "    if i%50 == 0:\n",
    "        #看到拟合程度与结果\n",
    "        try:\n",
    "            ax.lines.remove(lines[0])\n",
    "        except Exception:\n",
    "            pass\n",
    "        predicted_value = predict(x_data)\n",
    "        #将预测值放入plot中\n",
    "        lines = ax.plot(x_data,predicted_value,'-r',lw=5)\n",
    "        plt.pause(1)\n",
    "\n",
    "\n",
    "\n",
    "\n"
   ]
  }
 ],
 "metadata": {
  "kernelspec": {
   "display_name": "Python 2",
   "language": "python",
   "name": "python2"
  },
  "language_info": {
   "codemirror_mode": {
    "name": "ipython",
    "version": 2
   },
   "file_extension": ".py",
   "mimetype": "text/x-python",
   "name": "python",
   "nbconvert_exporter": "python",
   "pygments_lexer": "ipython2",
   "version": "2.7.11"
  }
 },
 "nbformat": 4,
 "nbformat_minor": 2
}
