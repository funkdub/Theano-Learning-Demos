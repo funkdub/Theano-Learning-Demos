{
 "cells": [
  {
   "cell_type": "code",
   "execution_count": 14,
   "metadata": {},
   "outputs": [
    {
     "name": "stdout",
     "output_type": "stream",
     "text": [
      "[[ 0.5         0.73105858]\n",
      " [ 0.88079708  0.95257413]]\n",
      "[array([[ 1.,  0.],\n",
      "       [-1., -2.]]), array([[ 1.,  0.],\n",
      "       [ 1.,  2.]]), array([[ 1.,  0.],\n",
      "       [ 1.,  4.]])]\n",
      "336.0\n"
     ]
    }
   ],
   "source": [
    "import numpy as np\n",
    "import theano.tensor as T\n",
    "import theano\n",
    "\n",
    "#activation function \n",
    "x = T.dmatrix('x')\n",
    "s = 1/(1+T.exp(-x))  #logistic or softstep\n",
    "logistic = theano.function([x],s)\n",
    "print logistic([[0,1],[2,3]])\n",
    "\n",
    "#multiply output for a function\n",
    "a,b = T.dmatrices('a','b')\n",
    "diff = a-b\n",
    "abs_diff = abs(diff)\n",
    "diff_squared = diff**2\n",
    "f = theano.function([a,b],[diff,abs_diff,diff_squared])\n",
    "print f(np.ones((2,2)),\n",
    "       np.arange(4).reshape((2,2)))\n",
    "#name for a function\n",
    "x,y,w = T.dscalars('x','y','w')\n",
    "z = (x+y)*w\n",
    "f = theano.function([x,\n",
    "                    theano.In(y,value=1),\n",
    "                    theano.In(w,value=11,name='weights')],\n",
    "                    z)\n",
    "print f(23,weights=14)\n",
    "\n",
    "def f(a,b,c):\n",
    "    return (a+b)*c"
   ]
  },
  {
   "cell_type": "code",
   "execution_count": null,
   "metadata": {
    "collapsed": true
   },
   "outputs": [],
   "source": []
  }
 ],
 "metadata": {
  "kernelspec": {
   "display_name": "Python 2",
   "language": "python",
   "name": "python2"
  },
  "language_info": {
   "codemirror_mode": {
    "name": "ipython",
    "version": 2
   },
   "file_extension": ".py",
   "mimetype": "text/x-python",
   "name": "python",
   "nbconvert_exporter": "python",
   "pygments_lexer": "ipython2",
   "version": "2.7.11"
  }
 },
 "nbformat": 4,
 "nbformat_minor": 2
}
