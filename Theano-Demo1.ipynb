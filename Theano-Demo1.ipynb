{
 "cells": [
  {
   "cell_type": "code",
   "execution_count": 6,
   "metadata": {
    "scrolled": true
   },
   "outputs": [
    {
     "name": "stdout",
     "output_type": "stream",
     "text": [
      "5.0\n",
      "pretty:(x + y)\n",
      "[[ 10.  11.  12.  13.]\n",
      " [ 14.  15.  16.  17.]\n",
      " [ 18.  19.  20.  21.]]\n"
     ]
    }
   ],
   "source": [
    "import numpy as np\n",
    "import theano.tensor as T\n",
    "from theano import function\n",
    "\n",
    "#basic\n",
    "x = T.dscalar('x')\n",
    "y = T.dscalar('y')\n",
    "z = x+y\n",
    "\n",
    "f = function([x,y],z)\n",
    "\n",
    "print f(2,3)\n",
    "\n",
    "#to pretty-print thr function\n",
    "from theano import pp\n",
    "print \"pretty:\" + pp(z)\n",
    "\n",
    "#how about matrix\n",
    "x = T.dmatrix('x')\n",
    "y = T.dmatrix('y')\n",
    "z = x+y\n",
    "f = function([x,y],z)\n",
    "\n",
    "print f(np.arange(12).reshape((3,4)),\n",
    "       10*np.ones((3,4)))"
   ]
  }
 ],
 "metadata": {
  "kernelspec": {
   "display_name": "Python 2",
   "language": "python",
   "name": "python2"
  },
  "language_info": {
   "codemirror_mode": {
    "name": "ipython",
    "version": 2
   },
   "file_extension": ".py",
   "mimetype": "text/x-python",
   "name": "python",
   "nbconvert_exporter": "python",
   "pygments_lexer": "ipython2",
   "version": "2.7.11"
  }
 },
 "nbformat": 4,
 "nbformat_minor": 2
}
